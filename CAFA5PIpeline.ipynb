{
 "cells": [
  {
   "cell_type": "code",
   "execution_count": 1,
   "id": "e452f03a",
   "metadata": {},
   "outputs": [],
   "source": [
    "import pandas as pd\n",
    "import numpy as np\n",
    "from tqdm import tqdm\n",
    "import matplotlib.pyplot as plt\n",
    "import torch\n",
    "from torch.utils.data import Dataset, random_split, DataLoader\n",
    "from torch import nn\n",
    "from torch.optim.lr_scheduler import ReduceLROnPlateau\n",
    "from torchmetrics.classification import MultilabelF1Score\n",
    "from sklearn.model_selection import KFold, StratifiedKFold\n",
    "import warnings\n",
    "import copy\n",
    "\n",
    "warnings.filterwarnings(\"ignore\")\n",
    "plt.style.use('ggplot')\n",
    "\n",
    "MAIN_DIR = \"/workspace/data\""
   ]
  },
  {
   "cell_type": "code",
   "execution_count": 2,
   "id": "6837ce08",
   "metadata": {},
   "outputs": [],
   "source": [
    "class Config:\n",
    "    \"\"\"Configuration class for paths and hyperparameters.\"\"\"\n",
    "    train_sequences_path = MAIN_DIR + \"/Train/train_sequences.fasta\"\n",
    "    train_labels_path = MAIN_DIR + \"/Train/train_terms.tsv\"\n",
    "    test_sequences_path = MAIN_DIR + \"/Test/testsuperset.fasta\"\n",
    "    \n",
    "    num_labels = 500\n",
    "    n_epochs = 20\n",
    "    batch_size = 128\n",
    "    lr = 0.01\n",
    "    \n",
    "    device = torch.device('cuda' if torch.cuda.is_available() else 'cpu')\n",
    "\n",
    "\n",
    "embeds_map = {\n",
    "    \"T5\": \"t5embeds\",\n",
    "    \"ProtBERT\": \"protbert-embeddings-for-cafa5\",\n",
    "    \"EMS2\": \"cafa-5-ems-2-embeddings-numpy\"\n",
    "}\n",
    "\n",
    "embeds_dim = {\n",
    "    \"T5\": 1024,\n",
    "    \"ProtBERT\": 1024,\n",
    "    \"EMS2\": 1280\n",
    "}"
   ]
  },
  {
   "cell_type": "code",
   "execution_count": 3,
   "metadata": {},
   "outputs": [],
   "source": [
    "class ProteinSequenceDataset(Dataset):\n",
    "    \"\"\"Dataset class for protein sequences with embeddings.\"\"\"\n",
    "    \n",
    "    def __init__(self, datatype, embeddings_source):\n",
    "        super(ProteinSequenceDataset, self).__init__()\n",
    "        self.datatype = datatype\n",
    "        \n",
    "        if embeddings_source in [\"ProtBERT\", \"EMS2\"]:\n",
    "            embeds = np.load(f\"/workspace/{embeds_map[embeddings_source]}/{datatype}_embeddings.npy\")\n",
    "            ids = np.load(f\"/workspace/{embeds_map[embeddings_source]}/{datatype}_ids.npy\")\n",
    "        \n",
    "        if embeddings_source == \"T5\":\n",
    "            embeds = np.load(f\"/workspace/{embeds_map[embeddings_source]}/{datatype}_embeds.npy\")\n",
    "            ids = np.load(f\"/workspace/{embeds_map[embeddings_source]}/{datatype}_ids.npy\")\n",
    "            \n",
    "        embeds_list = [embeds[l, :] for l in range(embeds.shape[0])]\n",
    "        self.df = pd.DataFrame({\"EntryID\": ids, \"embed\": embeds_list})\n",
    "        \n",
    "        if datatype == \"train\":\n",
    "            np_labels = np.load(f\"/workspace/train_targets_top{Config.num_labels}.npy\")\n",
    "            df_labels = pd.DataFrame(self.df['EntryID'])\n",
    "            df_labels['labels_vect'] = list(np_labels)\n",
    "            self.df = self.df.merge(df_labels, on=\"EntryID\")\n",
    "            \n",
    "    def __len__(self):\n",
    "        return len(self.df)\n",
    "    \n",
    "    def __getitem__(self, index):\n",
    "        embed = torch.tensor(self.df.iloc[index][\"embed\"], dtype=torch.float32)\n",
    "        if self.datatype == \"train\":\n",
    "            targets = torch.tensor(self.df.iloc[index][\"labels_vect\"], dtype=torch.float32)\n",
    "            return embed, targets\n",
    "        if self.datatype == \"test\":\n",
    "            protein_id = self.df.iloc[index][\"EntryID\"]\n",
    "            return embed, protein_id"
   ]
  },
  {
   "cell_type": "code",
   "execution_count": 4,
   "id": "d9cb3286",
   "metadata": {},
   "outputs": [],
   "source": [
    "class MultiLayerPerceptron(nn.Module):\n",
    "    \"\"\"Multi-layer Perceptron model.\"\"\"\n",
    "    \n",
    "    def __init__(self, input_dim, num_classes):\n",
    "        super(MultiLayerPerceptron, self).__init__()\n",
    "        self.linear1 = nn.Linear(input_dim, 864)\n",
    "        self.activation1 = nn.ReLU()\n",
    "        self.linear2 = nn.Linear(864, 712)\n",
    "        self.activation2 = nn.ReLU()\n",
    "        self.linear3 = nn.Linear(712, num_classes)\n",
    "    \n",
    "    def forward(self, x):\n",
    "        x = self.linear1(x)\n",
    "        x = self.activation1(x)\n",
    "        x = self.linear2(x)\n",
    "        x = self.activation2(x)\n",
    "        x = self.linear3(x)\n",
    "        return x\n",
    "\n",
    "\n",
    "class CNN1D(nn.Module):\n",
    "    \"\"\"1D Convolutional Neural Network model.\"\"\"\n",
    "    \n",
    "    def __init__(self, input_dim, num_classes):\n",
    "        super(CNN1D, self).__init__()\n",
    "        self.conv1 = nn.Conv1d(in_channels=1, out_channels=3, kernel_size=3, dilation=1, padding=1, stride=1)\n",
    "        self.pool1 = nn.MaxPool1d(kernel_size=2, stride=2)\n",
    "        self.conv2 = nn.Conv1d(in_channels=3, out_channels=8, kernel_size=3, dilation=1, padding=1, stride=1)\n",
    "        self.pool2 = nn.MaxPool1d(kernel_size=2, stride=2)\n",
    "        self.fc1 = nn.Linear(int(8 * input_dim / 4), 864)\n",
    "        self.fc2 = nn.Linear(864, num_classes)\n",
    "    \n",
    "    def forward(self, x):\n",
    "        x = x.reshape(x.shape[0], 1, x.shape[1])\n",
    "        x = self.pool1(nn.functional.tanh(self.conv1(x)))\n",
    "        x = self.pool2(nn.functional.tanh(self.conv2(x)))\n",
    "        x = torch.flatten(x, 1)\n",
    "        x = nn.functional.tanh(self.fc1(x))\n",
    "        x = self.fc2(x)\n",
    "        return x"
   ]
  },
  {
   "cell_type": "code",
   "execution_count": 5,
   "id": "5fa3c8d6",
   "metadata": {},
   "outputs": [
    {
     "name": "stderr",
     "output_type": "stream",
     "text": [
      "100%|██████████| 890/890 [00:03<00:00, 232.05it/s]\n"
     ]
    },
    {
     "name": "stdout",
     "output_type": "stream",
     "text": [
      "FOLD [1] EPOCH [01] TRAIN LOSS [138.721262] TRAIN SCORE [0.092438] VAL LOSS [138.162761] VAL SCORE [0.107106]\n"
     ]
    },
    {
     "name": "stderr",
     "output_type": "stream",
     "text": [
      "100%|██████████| 890/890 [00:03<00:00, 241.61it/s]\n"
     ]
    },
    {
     "name": "stdout",
     "output_type": "stream",
     "text": [
      "FOLD [1] EPOCH [02] TRAIN LOSS [136.675289] TRAIN SCORE [0.120655] VAL LOSS [136.479465] VAL SCORE [0.127398]\n"
     ]
    },
    {
     "name": "stderr",
     "output_type": "stream",
     "text": [
      "100%|██████████| 890/890 [00:03<00:00, 241.47it/s]\n"
     ]
    },
    {
     "name": "stdout",
     "output_type": "stream",
     "text": [
      "FOLD [1] EPOCH [03] TRAIN LOSS [136.027707] TRAIN SCORE [0.130170] VAL LOSS [136.236096] VAL SCORE [0.131175]\n"
     ]
    },
    {
     "name": "stderr",
     "output_type": "stream",
     "text": [
      "100%|██████████| 890/890 [00:03<00:00, 237.67it/s]\n"
     ]
    },
    {
     "name": "stdout",
     "output_type": "stream",
     "text": [
      "FOLD [1] EPOCH [04] TRAIN LOSS [135.758086] TRAIN SCORE [0.135730] VAL LOSS [136.062424] VAL SCORE [0.132483]\n"
     ]
    },
    {
     "name": "stderr",
     "output_type": "stream",
     "text": [
      "100%|██████████| 890/890 [00:03<00:00, 230.43it/s]\n"
     ]
    },
    {
     "name": "stdout",
     "output_type": "stream",
     "text": [
      "FOLD [1] EPOCH [05] TRAIN LOSS [135.283213] TRAIN SCORE [0.139872] VAL LOSS [135.804636] VAL SCORE [0.141575]\n"
     ]
    },
    {
     "name": "stderr",
     "output_type": "stream",
     "text": [
      "100%|██████████| 890/890 [00:03<00:00, 235.86it/s]\n"
     ]
    },
    {
     "name": "stdout",
     "output_type": "stream",
     "text": [
      "FOLD [1] EPOCH [06] TRAIN LOSS [135.169333] TRAIN SCORE [0.141201] VAL LOSS [135.111769] VAL SCORE [0.138377]\n"
     ]
    },
    {
     "name": "stderr",
     "output_type": "stream",
     "text": [
      "100%|██████████| 890/890 [00:03<00:00, 225.09it/s]\n"
     ]
    },
    {
     "name": "stdout",
     "output_type": "stream",
     "text": [
      "FOLD [1] EPOCH [07] TRAIN LOSS [135.107695] TRAIN SCORE [0.143423] VAL LOSS [135.586807] VAL SCORE [0.137962]\n"
     ]
    },
    {
     "name": "stderr",
     "output_type": "stream",
     "text": [
      "100%|██████████| 890/890 [00:03<00:00, 230.30it/s]\n"
     ]
    },
    {
     "name": "stdout",
     "output_type": "stream",
     "text": [
      "FOLD [1] EPOCH [08] TRAIN LOSS [135.092189] TRAIN SCORE [0.144372] VAL LOSS [135.007604] VAL SCORE [0.145433]\n"
     ]
    },
    {
     "name": "stderr",
     "output_type": "stream",
     "text": [
      "100%|██████████| 890/890 [00:03<00:00, 226.89it/s]\n"
     ]
    },
    {
     "name": "stdout",
     "output_type": "stream",
     "text": [
      "FOLD [1] EPOCH [09] TRAIN LOSS [135.039800] TRAIN SCORE [0.145519] VAL LOSS [135.700342] VAL SCORE [0.137570]\n"
     ]
    },
    {
     "name": "stderr",
     "output_type": "stream",
     "text": [
      "100%|██████████| 890/890 [00:03<00:00, 232.27it/s]\n"
     ]
    },
    {
     "name": "stdout",
     "output_type": "stream",
     "text": [
      "FOLD [1] EPOCH [10] TRAIN LOSS [134.909015] TRAIN SCORE [0.145939] VAL LOSS [134.585486] VAL SCORE [0.148482]\n"
     ]
    },
    {
     "name": "stderr",
     "output_type": "stream",
     "text": [
      "100%|██████████| 890/890 [00:03<00:00, 233.92it/s]\n"
     ]
    },
    {
     "name": "stdout",
     "output_type": "stream",
     "text": [
      "FOLD [1] EPOCH [11] TRAIN LOSS [135.004413] TRAIN SCORE [0.147352] VAL LOSS [135.236526] VAL SCORE [0.140616]\n"
     ]
    },
    {
     "name": "stderr",
     "output_type": "stream",
     "text": [
      "100%|██████████| 890/890 [00:03<00:00, 228.26it/s]\n"
     ]
    },
    {
     "name": "stdout",
     "output_type": "stream",
     "text": [
      "FOLD [1] EPOCH [12] TRAIN LOSS [134.720687] TRAIN SCORE [0.147097] VAL LOSS [134.770017] VAL SCORE [0.148068]\n"
     ]
    },
    {
     "name": "stderr",
     "output_type": "stream",
     "text": [
      "100%|██████████| 890/890 [00:03<00:00, 239.01it/s]\n"
     ]
    },
    {
     "name": "stdout",
     "output_type": "stream",
     "text": [
      "FOLD [1] EPOCH [13] TRAIN LOSS [133.780786] TRAIN SCORE [0.155346] VAL LOSS [134.393165] VAL SCORE [0.153335]\n"
     ]
    },
    {
     "name": "stderr",
     "output_type": "stream",
     "text": [
      "100%|██████████| 890/890 [00:03<00:00, 229.32it/s]\n"
     ]
    },
    {
     "name": "stdout",
     "output_type": "stream",
     "text": [
      "FOLD [1] EPOCH [14] TRAIN LOSS [133.836869] TRAIN SCORE [0.156728] VAL LOSS [134.144459] VAL SCORE [0.154996]\n"
     ]
    },
    {
     "name": "stderr",
     "output_type": "stream",
     "text": [
      "100%|██████████| 890/890 [00:03<00:00, 232.15it/s]\n"
     ]
    },
    {
     "name": "stdout",
     "output_type": "stream",
     "text": [
      "FOLD [1] EPOCH [15] TRAIN LOSS [133.673773] TRAIN SCORE [0.157393] VAL LOSS [134.074704] VAL SCORE [0.155196]\n"
     ]
    },
    {
     "name": "stderr",
     "output_type": "stream",
     "text": [
      "100%|██████████| 890/890 [00:03<00:00, 229.18it/s]\n"
     ]
    },
    {
     "name": "stdout",
     "output_type": "stream",
     "text": [
      "FOLD [1] EPOCH [16] TRAIN LOSS [133.605824] TRAIN SCORE [0.158001] VAL LOSS [133.944339] VAL SCORE [0.155512]\n"
     ]
    },
    {
     "name": "stderr",
     "output_type": "stream",
     "text": [
      "100%|██████████| 890/890 [00:03<00:00, 230.98it/s]\n"
     ]
    },
    {
     "name": "stdout",
     "output_type": "stream",
     "text": [
      "FOLD [1] EPOCH [17] TRAIN LOSS [133.738787] TRAIN SCORE [0.158423] VAL LOSS [133.986152] VAL SCORE [0.156422]\n"
     ]
    },
    {
     "name": "stderr",
     "output_type": "stream",
     "text": [
      "100%|██████████| 890/890 [00:03<00:00, 240.67it/s]\n"
     ]
    },
    {
     "name": "stdout",
     "output_type": "stream",
     "text": [
      "FOLD [1] EPOCH [18] TRAIN LOSS [133.553370] TRAIN SCORE [0.158521] VAL LOSS [134.109763] VAL SCORE [0.156443]\n"
     ]
    },
    {
     "name": "stderr",
     "output_type": "stream",
     "text": [
      "100%|██████████| 890/890 [00:03<00:00, 235.26it/s]\n"
     ]
    },
    {
     "name": "stdout",
     "output_type": "stream",
     "text": [
      "FOLD [1] EPOCH [19] TRAIN LOSS [133.505510] TRAIN SCORE [0.159004] VAL LOSS [133.930391] VAL SCORE [0.156558]\n"
     ]
    },
    {
     "name": "stderr",
     "output_type": "stream",
     "text": [
      "100%|██████████| 890/890 [00:03<00:00, 232.55it/s]\n"
     ]
    },
    {
     "name": "stdout",
     "output_type": "stream",
     "text": [
      "FOLD [1] EPOCH [20] TRAIN LOSS [133.503844] TRAIN SCORE [0.159492] VAL LOSS [133.845264] VAL SCORE [0.156555]\n",
      "FOLD [1] BEST VALIDATION SCORE [0.156558]\n",
      "====================================================================================================\n"
     ]
    },
    {
     "name": "stderr",
     "output_type": "stream",
     "text": [
      "100%|██████████| 890/890 [00:03<00:00, 231.38it/s]\n"
     ]
    },
    {
     "name": "stdout",
     "output_type": "stream",
     "text": [
      "FOLD [2] EPOCH [01] TRAIN LOSS [138.506616] TRAIN SCORE [0.100064] VAL LOSS [137.927351] VAL SCORE [0.113112]\n"
     ]
    },
    {
     "name": "stderr",
     "output_type": "stream",
     "text": [
      "100%|██████████| 890/890 [00:03<00:00, 241.89it/s]\n"
     ]
    },
    {
     "name": "stdout",
     "output_type": "stream",
     "text": [
      "FOLD [2] EPOCH [02] TRAIN LOSS [136.409456] TRAIN SCORE [0.126316] VAL LOSS [136.216753] VAL SCORE [0.124445]\n"
     ]
    },
    {
     "name": "stderr",
     "output_type": "stream",
     "text": [
      "100%|██████████| 890/890 [00:03<00:00, 240.10it/s]\n"
     ]
    },
    {
     "name": "stdout",
     "output_type": "stream",
     "text": [
      "FOLD [2] EPOCH [03] TRAIN LOSS [135.871766] TRAIN SCORE [0.135369] VAL LOSS [135.734998] VAL SCORE [0.139365]\n"
     ]
    },
    {
     "name": "stderr",
     "output_type": "stream",
     "text": [
      "100%|██████████| 890/890 [00:03<00:00, 241.33it/s]\n"
     ]
    },
    {
     "name": "stdout",
     "output_type": "stream",
     "text": [
      "FOLD [2] EPOCH [04] TRAIN LOSS [135.364095] TRAIN SCORE [0.140977] VAL LOSS [135.779519] VAL SCORE [0.138728]\n"
     ]
    },
    {
     "name": "stderr",
     "output_type": "stream",
     "text": [
      "100%|██████████| 890/890 [00:03<00:00, 240.73it/s]\n"
     ]
    },
    {
     "name": "stdout",
     "output_type": "stream",
     "text": [
      "FOLD [2] EPOCH [05] TRAIN LOSS [135.253530] TRAIN SCORE [0.143684] VAL LOSS [135.526960] VAL SCORE [0.141046]\n"
     ]
    },
    {
     "name": "stderr",
     "output_type": "stream",
     "text": [
      "100%|██████████| 890/890 [00:03<00:00, 241.72it/s]\n"
     ]
    },
    {
     "name": "stdout",
     "output_type": "stream",
     "text": [
      "FOLD [2] EPOCH [06] TRAIN LOSS [135.337324] TRAIN SCORE [0.146232] VAL LOSS [136.590100] VAL SCORE [0.135097]\n"
     ]
    },
    {
     "name": "stderr",
     "output_type": "stream",
     "text": [
      "100%|██████████| 890/890 [00:03<00:00, 236.99it/s]\n"
     ]
    },
    {
     "name": "stdout",
     "output_type": "stream",
     "text": [
      "FOLD [2] EPOCH [07] TRAIN LOSS [135.113697] TRAIN SCORE [0.144739] VAL LOSS [135.714317] VAL SCORE [0.142346]\n"
     ]
    },
    {
     "name": "stderr",
     "output_type": "stream",
     "text": [
      "100%|██████████| 890/890 [00:03<00:00, 240.16it/s]\n"
     ]
    },
    {
     "name": "stdout",
     "output_type": "stream",
     "text": [
      "FOLD [2] EPOCH [08] TRAIN LOSS [133.808050] TRAIN SCORE [0.155989] VAL LOSS [134.142306] VAL SCORE [0.154719]\n"
     ]
    },
    {
     "name": "stderr",
     "output_type": "stream",
     "text": [
      "100%|██████████| 890/890 [00:03<00:00, 235.04it/s]\n"
     ]
    },
    {
     "name": "stdout",
     "output_type": "stream",
     "text": [
      "FOLD [2] EPOCH [09] TRAIN LOSS [133.662140] TRAIN SCORE [0.158609] VAL LOSS [134.125589] VAL SCORE [0.155342]\n"
     ]
    },
    {
     "name": "stderr",
     "output_type": "stream",
     "text": [
      "100%|██████████| 890/890 [00:03<00:00, 238.22it/s]\n"
     ]
    },
    {
     "name": "stdout",
     "output_type": "stream",
     "text": [
      "FOLD [2] EPOCH [10] TRAIN LOSS [133.672621] TRAIN SCORE [0.159609] VAL LOSS [134.356250] VAL SCORE [0.155062]\n"
     ]
    },
    {
     "name": "stderr",
     "output_type": "stream",
     "text": [
      "100%|██████████| 890/890 [00:03<00:00, 225.16it/s]\n"
     ]
    },
    {
     "name": "stdout",
     "output_type": "stream",
     "text": [
      "FOLD [2] EPOCH [11] TRAIN LOSS [133.451471] TRAIN SCORE [0.160144] VAL LOSS [134.291528] VAL SCORE [0.155904]\n"
     ]
    },
    {
     "name": "stderr",
     "output_type": "stream",
     "text": [
      "100%|██████████| 890/890 [00:03<00:00, 235.22it/s]\n"
     ]
    },
    {
     "name": "stdout",
     "output_type": "stream",
     "text": [
      "FOLD [2] EPOCH [12] TRAIN LOSS [133.338269] TRAIN SCORE [0.161635] VAL LOSS [133.953687] VAL SCORE [0.157203]\n"
     ]
    },
    {
     "name": "stderr",
     "output_type": "stream",
     "text": [
      "100%|██████████| 890/890 [00:03<00:00, 228.58it/s]\n"
     ]
    },
    {
     "name": "stdout",
     "output_type": "stream",
     "text": [
      "FOLD [2] EPOCH [13] TRAIN LOSS [133.306518] TRAIN SCORE [0.161709] VAL LOSS [133.986927] VAL SCORE [0.158031]\n"
     ]
    },
    {
     "name": "stderr",
     "output_type": "stream",
     "text": [
      "100%|██████████| 890/890 [00:03<00:00, 226.66it/s]\n"
     ]
    },
    {
     "name": "stdout",
     "output_type": "stream",
     "text": [
      "FOLD [2] EPOCH [14] TRAIN LOSS [133.469719] TRAIN SCORE [0.162374] VAL LOSS [133.919438] VAL SCORE [0.157174]\n"
     ]
    },
    {
     "name": "stderr",
     "output_type": "stream",
     "text": [
      "100%|██████████| 890/890 [00:04<00:00, 221.61it/s]\n"
     ]
    },
    {
     "name": "stdout",
     "output_type": "stream",
     "text": [
      "FOLD [2] EPOCH [15] TRAIN LOSS [133.243797] TRAIN SCORE [0.162260] VAL LOSS [133.891120] VAL SCORE [0.157287]\n"
     ]
    },
    {
     "name": "stderr",
     "output_type": "stream",
     "text": [
      "100%|██████████| 890/890 [00:03<00:00, 229.10it/s]\n"
     ]
    },
    {
     "name": "stdout",
     "output_type": "stream",
     "text": [
      "FOLD [2] EPOCH [16] TRAIN LOSS [133.371352] TRAIN SCORE [0.162385] VAL LOSS [133.803424] VAL SCORE [0.158298]\n"
     ]
    },
    {
     "name": "stderr",
     "output_type": "stream",
     "text": [
      "100%|██████████| 890/890 [00:03<00:00, 226.88it/s]\n"
     ]
    },
    {
     "name": "stdout",
     "output_type": "stream",
     "text": [
      "FOLD [2] EPOCH [17] TRAIN LOSS [133.266993] TRAIN SCORE [0.162390] VAL LOSS [133.951287] VAL SCORE [0.158170]\n"
     ]
    },
    {
     "name": "stderr",
     "output_type": "stream",
     "text": [
      "100%|██████████| 890/890 [00:03<00:00, 238.37it/s]\n"
     ]
    },
    {
     "name": "stdout",
     "output_type": "stream",
     "text": [
      "FOLD [2] EPOCH [18] TRAIN LOSS [133.261395] TRAIN SCORE [0.162524] VAL LOSS [133.888929] VAL SCORE [0.158056]\n"
     ]
    },
    {
     "name": "stderr",
     "output_type": "stream",
     "text": [
      "100%|██████████| 890/890 [00:03<00:00, 226.56it/s]\n"
     ]
    },
    {
     "name": "stdout",
     "output_type": "stream",
     "text": [
      "FOLD [2] EPOCH [19] TRAIN LOSS [133.312781] TRAIN SCORE [0.162811] VAL LOSS [133.968836] VAL SCORE [0.158754]\n"
     ]
    },
    {
     "name": "stderr",
     "output_type": "stream",
     "text": [
      "100%|██████████| 890/890 [00:03<00:00, 228.75it/s]\n"
     ]
    },
    {
     "name": "stdout",
     "output_type": "stream",
     "text": [
      "FOLD [2] EPOCH [20] TRAIN LOSS [133.312800] TRAIN SCORE [0.162721] VAL LOSS [133.919933] VAL SCORE [0.158286]\n",
      "FOLD [2] BEST VALIDATION SCORE [0.158754]\n",
      "====================================================================================================\n"
     ]
    },
    {
     "name": "stderr",
     "output_type": "stream",
     "text": [
      "100%|██████████| 890/890 [00:03<00:00, 236.07it/s]\n"
     ]
    },
    {
     "name": "stdout",
     "output_type": "stream",
     "text": [
      "FOLD [3] EPOCH [01] TRAIN LOSS [138.871625] TRAIN SCORE [0.093837] VAL LOSS [137.354096] VAL SCORE [0.112008]\n"
     ]
    },
    {
     "name": "stderr",
     "output_type": "stream",
     "text": [
      "100%|██████████| 890/890 [00:03<00:00, 229.28it/s]\n"
     ]
    },
    {
     "name": "stdout",
     "output_type": "stream",
     "text": [
      "FOLD [3] EPOCH [02] TRAIN LOSS [136.817691] TRAIN SCORE [0.122606] VAL LOSS [136.772512] VAL SCORE [0.123262]\n"
     ]
    },
    {
     "name": "stderr",
     "output_type": "stream",
     "text": [
      "100%|██████████| 890/890 [00:03<00:00, 237.17it/s]\n"
     ]
    },
    {
     "name": "stdout",
     "output_type": "stream",
     "text": [
      "FOLD [3] EPOCH [03] TRAIN LOSS [136.115410] TRAIN SCORE [0.129262] VAL LOSS [136.804587] VAL SCORE [0.118733]\n"
     ]
    },
    {
     "name": "stderr",
     "output_type": "stream",
     "text": [
      "100%|██████████| 890/890 [00:03<00:00, 231.36it/s]\n"
     ]
    },
    {
     "name": "stdout",
     "output_type": "stream",
     "text": [
      "FOLD [3] EPOCH [04] TRAIN LOSS [135.745803] TRAIN SCORE [0.134720] VAL LOSS [137.131027] VAL SCORE [0.127815]\n"
     ]
    },
    {
     "name": "stderr",
     "output_type": "stream",
     "text": [
      "100%|██████████| 890/890 [00:03<00:00, 232.73it/s]\n"
     ]
    },
    {
     "name": "stdout",
     "output_type": "stream",
     "text": [
      "FOLD [3] EPOCH [05] TRAIN LOSS [134.552214] TRAIN SCORE [0.145770] VAL LOSS [134.800392] VAL SCORE [0.144592]\n"
     ]
    },
    {
     "name": "stderr",
     "output_type": "stream",
     "text": [
      "100%|██████████| 890/890 [00:03<00:00, 235.90it/s]\n"
     ]
    },
    {
     "name": "stdout",
     "output_type": "stream",
     "text": [
      "FOLD [3] EPOCH [06] TRAIN LOSS [134.544118] TRAIN SCORE [0.148916] VAL LOSS [134.758030] VAL SCORE [0.145852]\n"
     ]
    },
    {
     "name": "stderr",
     "output_type": "stream",
     "text": [
      "100%|██████████| 890/890 [00:03<00:00, 226.32it/s]\n"
     ]
    },
    {
     "name": "stdout",
     "output_type": "stream",
     "text": [
      "FOLD [3] EPOCH [07] TRAIN LOSS [134.200495] TRAIN SCORE [0.150691] VAL LOSS [134.619622] VAL SCORE [0.144673]\n"
     ]
    },
    {
     "name": "stderr",
     "output_type": "stream",
     "text": [
      "100%|██████████| 890/890 [00:03<00:00, 232.28it/s]\n"
     ]
    },
    {
     "name": "stdout",
     "output_type": "stream",
     "text": [
      "FOLD [3] EPOCH [08] TRAIN LOSS [134.142843] TRAIN SCORE [0.151515] VAL LOSS [134.379384] VAL SCORE [0.148031]\n"
     ]
    },
    {
     "name": "stderr",
     "output_type": "stream",
     "text": [
      "100%|██████████| 890/890 [00:03<00:00, 228.16it/s]\n"
     ]
    },
    {
     "name": "stdout",
     "output_type": "stream",
     "text": [
      "FOLD [3] EPOCH [09] TRAIN LOSS [133.997741] TRAIN SCORE [0.152957] VAL LOSS [134.400100] VAL SCORE [0.148525]\n"
     ]
    },
    {
     "name": "stderr",
     "output_type": "stream",
     "text": [
      "100%|██████████| 890/890 [00:03<00:00, 228.90it/s]\n"
     ]
    },
    {
     "name": "stdout",
     "output_type": "stream",
     "text": [
      "FOLD [3] EPOCH [10] TRAIN LOSS [133.916702] TRAIN SCORE [0.153921] VAL LOSS [134.453349] VAL SCORE [0.149302]\n"
     ]
    },
    {
     "name": "stderr",
     "output_type": "stream",
     "text": [
      "100%|██████████| 890/890 [00:03<00:00, 226.49it/s]\n"
     ]
    },
    {
     "name": "stdout",
     "output_type": "stream",
     "text": [
      "FOLD [3] EPOCH [11] TRAIN LOSS [133.764775] TRAIN SCORE [0.155416] VAL LOSS [134.307338] VAL SCORE [0.150163]\n"
     ]
    },
    {
     "name": "stderr",
     "output_type": "stream",
     "text": [
      "100%|██████████| 890/890 [00:03<00:00, 226.11it/s]\n"
     ]
    },
    {
     "name": "stdout",
     "output_type": "stream",
     "text": [
      "FOLD [3] EPOCH [12] TRAIN LOSS [133.745181] TRAIN SCORE [0.155615] VAL LOSS [134.280209] VAL SCORE [0.150628]\n"
     ]
    },
    {
     "name": "stderr",
     "output_type": "stream",
     "text": [
      "100%|██████████| 890/890 [00:03<00:00, 226.84it/s]\n"
     ]
    },
    {
     "name": "stdout",
     "output_type": "stream",
     "text": [
      "FOLD [3] EPOCH [13] TRAIN LOSS [133.645165] TRAIN SCORE [0.156142] VAL LOSS [134.327252] VAL SCORE [0.150572]\n"
     ]
    },
    {
     "name": "stderr",
     "output_type": "stream",
     "text": [
      "100%|██████████| 890/890 [00:03<00:00, 228.68it/s]\n"
     ]
    },
    {
     "name": "stdout",
     "output_type": "stream",
     "text": [
      "FOLD [3] EPOCH [14] TRAIN LOSS [133.758355] TRAIN SCORE [0.156585] VAL LOSS [134.334596] VAL SCORE [0.150213]\n"
     ]
    },
    {
     "name": "stderr",
     "output_type": "stream",
     "text": [
      "100%|██████████| 890/890 [00:03<00:00, 228.17it/s]\n"
     ]
    },
    {
     "name": "stdout",
     "output_type": "stream",
     "text": [
      "FOLD [3] EPOCH [15] TRAIN LOSS [133.687885] TRAIN SCORE [0.156387] VAL LOSS [134.207352] VAL SCORE [0.151254]\n"
     ]
    },
    {
     "name": "stderr",
     "output_type": "stream",
     "text": [
      "100%|██████████| 890/890 [00:03<00:00, 235.93it/s]\n"
     ]
    },
    {
     "name": "stdout",
     "output_type": "stream",
     "text": [
      "FOLD [3] EPOCH [16] TRAIN LOSS [133.763168] TRAIN SCORE [0.156522] VAL LOSS [134.065083] VAL SCORE [0.150592]\n"
     ]
    },
    {
     "name": "stderr",
     "output_type": "stream",
     "text": [
      "100%|██████████| 890/890 [00:03<00:00, 231.63it/s]\n"
     ]
    },
    {
     "name": "stdout",
     "output_type": "stream",
     "text": [
      "FOLD [3] EPOCH [17] TRAIN LOSS [133.683580] TRAIN SCORE [0.156463] VAL LOSS [134.379958] VAL SCORE [0.151144]\n"
     ]
    },
    {
     "name": "stderr",
     "output_type": "stream",
     "text": [
      "100%|██████████| 890/890 [00:03<00:00, 226.80it/s]\n"
     ]
    },
    {
     "name": "stdout",
     "output_type": "stream",
     "text": [
      "FOLD [3] EPOCH [18] TRAIN LOSS [133.658650] TRAIN SCORE [0.156583] VAL LOSS [134.248132] VAL SCORE [0.150752]\n"
     ]
    },
    {
     "name": "stderr",
     "output_type": "stream",
     "text": [
      "100%|██████████| 890/890 [00:03<00:00, 229.64it/s]\n"
     ]
    },
    {
     "name": "stdout",
     "output_type": "stream",
     "text": [
      "FOLD [3] EPOCH [19] TRAIN LOSS [133.656567] TRAIN SCORE [0.156548] VAL LOSS [134.126497] VAL SCORE [0.150673]\n"
     ]
    },
    {
     "name": "stderr",
     "output_type": "stream",
     "text": [
      "100%|██████████| 890/890 [00:03<00:00, 228.25it/s]\n"
     ]
    },
    {
     "name": "stdout",
     "output_type": "stream",
     "text": [
      "FOLD [3] EPOCH [20] TRAIN LOSS [133.750725] TRAIN SCORE [0.156608] VAL LOSS [134.290027] VAL SCORE [0.150788]\n",
      "FOLD [3] BEST VALIDATION SCORE [0.151254]\n",
      "====================================================================================================\n"
     ]
    },
    {
     "name": "stderr",
     "output_type": "stream",
     "text": [
      "100%|██████████| 890/890 [00:03<00:00, 228.51it/s]\n"
     ]
    },
    {
     "name": "stdout",
     "output_type": "stream",
     "text": [
      "FOLD [4] EPOCH [01] TRAIN LOSS [138.476877] TRAIN SCORE [0.097698] VAL LOSS [136.909803] VAL SCORE [0.121729]\n"
     ]
    },
    {
     "name": "stderr",
     "output_type": "stream",
     "text": [
      "100%|██████████| 890/890 [00:03<00:00, 230.24it/s]\n"
     ]
    },
    {
     "name": "stdout",
     "output_type": "stream",
     "text": [
      "FOLD [4] EPOCH [02] TRAIN LOSS [136.346714] TRAIN SCORE [0.127615] VAL LOSS [138.011906] VAL SCORE [0.122532]\n"
     ]
    },
    {
     "name": "stderr",
     "output_type": "stream",
     "text": [
      "100%|██████████| 890/890 [00:03<00:00, 227.73it/s]\n"
     ]
    },
    {
     "name": "stdout",
     "output_type": "stream",
     "text": [
      "FOLD [4] EPOCH [03] TRAIN LOSS [135.857930] TRAIN SCORE [0.132559] VAL LOSS [135.297895] VAL SCORE [0.139898]\n"
     ]
    },
    {
     "name": "stderr",
     "output_type": "stream",
     "text": [
      "100%|██████████| 890/890 [00:03<00:00, 234.48it/s]\n"
     ]
    },
    {
     "name": "stdout",
     "output_type": "stream",
     "text": [
      "FOLD [4] EPOCH [04] TRAIN LOSS [135.230698] TRAIN SCORE [0.141607] VAL LOSS [136.772993] VAL SCORE [0.138586]\n"
     ]
    },
    {
     "name": "stderr",
     "output_type": "stream",
     "text": [
      "100%|██████████| 890/890 [00:03<00:00, 238.12it/s]\n"
     ]
    },
    {
     "name": "stdout",
     "output_type": "stream",
     "text": [
      "FOLD [4] EPOCH [05] TRAIN LOSS [135.069582] TRAIN SCORE [0.143752] VAL LOSS [135.382779] VAL SCORE [0.138560]\n"
     ]
    },
    {
     "name": "stderr",
     "output_type": "stream",
     "text": [
      "100%|██████████| 890/890 [00:03<00:00, 236.45it/s]\n"
     ]
    },
    {
     "name": "stdout",
     "output_type": "stream",
     "text": [
      "FOLD [4] EPOCH [06] TRAIN LOSS [133.907460] TRAIN SCORE [0.154191] VAL LOSS [133.887126] VAL SCORE [0.155304]\n"
     ]
    },
    {
     "name": "stderr",
     "output_type": "stream",
     "text": [
      "100%|██████████| 890/890 [00:03<00:00, 228.59it/s]\n"
     ]
    },
    {
     "name": "stdout",
     "output_type": "stream",
     "text": [
      "FOLD [4] EPOCH [07] TRAIN LOSS [133.731089] TRAIN SCORE [0.157014] VAL LOSS [133.856878] VAL SCORE [0.157118]\n"
     ]
    },
    {
     "name": "stderr",
     "output_type": "stream",
     "text": [
      "100%|██████████| 890/890 [00:03<00:00, 226.78it/s]\n"
     ]
    },
    {
     "name": "stdout",
     "output_type": "stream",
     "text": [
      "FOLD [4] EPOCH [08] TRAIN LOSS [133.570972] TRAIN SCORE [0.157959] VAL LOSS [133.641207] VAL SCORE [0.157565]\n"
     ]
    },
    {
     "name": "stderr",
     "output_type": "stream",
     "text": [
      "100%|██████████| 890/890 [00:03<00:00, 230.05it/s]\n"
     ]
    },
    {
     "name": "stdout",
     "output_type": "stream",
     "text": [
      "FOLD [4] EPOCH [09] TRAIN LOSS [133.569094] TRAIN SCORE [0.158796] VAL LOSS [133.790906] VAL SCORE [0.157563]\n"
     ]
    },
    {
     "name": "stderr",
     "output_type": "stream",
     "text": [
      "100%|██████████| 890/890 [00:03<00:00, 230.73it/s]\n"
     ]
    },
    {
     "name": "stdout",
     "output_type": "stream",
     "text": [
      "FOLD [4] EPOCH [10] TRAIN LOSS [133.420196] TRAIN SCORE [0.159362] VAL LOSS [133.620010] VAL SCORE [0.158831]\n"
     ]
    },
    {
     "name": "stderr",
     "output_type": "stream",
     "text": [
      "100%|██████████| 890/890 [00:03<00:00, 228.02it/s]\n"
     ]
    },
    {
     "name": "stdout",
     "output_type": "stream",
     "text": [
      "FOLD [4] EPOCH [11] TRAIN LOSS [133.412912] TRAIN SCORE [0.160445] VAL LOSS [133.643299] VAL SCORE [0.159276]\n"
     ]
    },
    {
     "name": "stderr",
     "output_type": "stream",
     "text": [
      "100%|██████████| 890/890 [00:04<00:00, 222.07it/s]\n"
     ]
    },
    {
     "name": "stdout",
     "output_type": "stream",
     "text": [
      "FOLD [4] EPOCH [12] TRAIN LOSS [133.497724] TRAIN SCORE [0.160983] VAL LOSS [133.557119] VAL SCORE [0.160373]\n"
     ]
    },
    {
     "name": "stderr",
     "output_type": "stream",
     "text": [
      "100%|██████████| 890/890 [00:03<00:00, 226.30it/s]\n"
     ]
    },
    {
     "name": "stdout",
     "output_type": "stream",
     "text": [
      "FOLD [4] EPOCH [13] TRAIN LOSS [133.252461] TRAIN SCORE [0.161377] VAL LOSS [133.456359] VAL SCORE [0.160637]\n"
     ]
    },
    {
     "name": "stderr",
     "output_type": "stream",
     "text": [
      "100%|██████████| 890/890 [00:03<00:00, 228.14it/s]\n"
     ]
    },
    {
     "name": "stdout",
     "output_type": "stream",
     "text": [
      "FOLD [4] EPOCH [14] TRAIN LOSS [133.321391] TRAIN SCORE [0.162034] VAL LOSS [133.674194] VAL SCORE [0.160965]\n"
     ]
    },
    {
     "name": "stderr",
     "output_type": "stream",
     "text": [
      "100%|██████████| 890/890 [00:03<00:00, 224.63it/s]\n"
     ]
    },
    {
     "name": "stdout",
     "output_type": "stream",
     "text": [
      "FOLD [4] EPOCH [15] TRAIN LOSS [133.228458] TRAIN SCORE [0.163198] VAL LOSS [133.426116] VAL SCORE [0.161275]\n"
     ]
    },
    {
     "name": "stderr",
     "output_type": "stream",
     "text": [
      "100%|██████████| 890/890 [00:04<00:00, 220.90it/s]\n"
     ]
    },
    {
     "name": "stdout",
     "output_type": "stream",
     "text": [
      "FOLD [4] EPOCH [16] TRAIN LOSS [133.128306] TRAIN SCORE [0.163282] VAL LOSS [133.522641] VAL SCORE [0.161724]\n"
     ]
    },
    {
     "name": "stderr",
     "output_type": "stream",
     "text": [
      "100%|██████████| 890/890 [00:03<00:00, 227.89it/s]\n"
     ]
    },
    {
     "name": "stdout",
     "output_type": "stream",
     "text": [
      "FOLD [4] EPOCH [17] TRAIN LOSS [133.169862] TRAIN SCORE [0.164241] VAL LOSS [133.620050] VAL SCORE [0.163005]\n"
     ]
    },
    {
     "name": "stderr",
     "output_type": "stream",
     "text": [
      "100%|██████████| 890/890 [00:03<00:00, 231.62it/s]\n"
     ]
    },
    {
     "name": "stdout",
     "output_type": "stream",
     "text": [
      "FOLD [4] EPOCH [18] TRAIN LOSS [132.828364] TRAIN SCORE [0.166191] VAL LOSS [133.441894] VAL SCORE [0.163486]\n"
     ]
    },
    {
     "name": "stderr",
     "output_type": "stream",
     "text": [
      "100%|██████████| 890/890 [00:03<00:00, 231.94it/s]\n"
     ]
    },
    {
     "name": "stdout",
     "output_type": "stream",
     "text": [
      "FOLD [4] EPOCH [19] TRAIN LOSS [132.819671] TRAIN SCORE [0.165757] VAL LOSS [133.307160] VAL SCORE [0.163795]\n"
     ]
    },
    {
     "name": "stderr",
     "output_type": "stream",
     "text": [
      "100%|██████████| 890/890 [00:03<00:00, 228.92it/s]\n"
     ]
    },
    {
     "name": "stdout",
     "output_type": "stream",
     "text": [
      "FOLD [4] EPOCH [20] TRAIN LOSS [133.082047] TRAIN SCORE [0.166395] VAL LOSS [133.250644] VAL SCORE [0.163600]\n",
      "FOLD [4] BEST VALIDATION SCORE [0.163795]\n",
      "====================================================================================================\n"
     ]
    },
    {
     "name": "stderr",
     "output_type": "stream",
     "text": [
      "100%|██████████| 890/890 [00:03<00:00, 231.16it/s]\n"
     ]
    },
    {
     "name": "stdout",
     "output_type": "stream",
     "text": [
      "FOLD [5] EPOCH [01] TRAIN LOSS [138.545555] TRAIN SCORE [0.096711] VAL LOSS [138.285748] VAL SCORE [0.117896]\n"
     ]
    },
    {
     "name": "stderr",
     "output_type": "stream",
     "text": [
      "100%|██████████| 890/890 [00:03<00:00, 233.67it/s]\n"
     ]
    },
    {
     "name": "stdout",
     "output_type": "stream",
     "text": [
      "FOLD [5] EPOCH [02] TRAIN LOSS [136.508250] TRAIN SCORE [0.125468] VAL LOSS [136.351164] VAL SCORE [0.129699]\n"
     ]
    },
    {
     "name": "stderr",
     "output_type": "stream",
     "text": [
      "100%|██████████| 890/890 [00:03<00:00, 235.86it/s]\n"
     ]
    },
    {
     "name": "stdout",
     "output_type": "stream",
     "text": [
      "FOLD [5] EPOCH [03] TRAIN LOSS [135.846989] TRAIN SCORE [0.135129] VAL LOSS [136.232476] VAL SCORE [0.136391]\n"
     ]
    },
    {
     "name": "stderr",
     "output_type": "stream",
     "text": [
      "100%|██████████| 890/890 [00:03<00:00, 227.06it/s]\n"
     ]
    },
    {
     "name": "stdout",
     "output_type": "stream",
     "text": [
      "FOLD [5] EPOCH [04] TRAIN LOSS [135.381464] TRAIN SCORE [0.138900] VAL LOSS [136.469865] VAL SCORE [0.132683]\n"
     ]
    },
    {
     "name": "stderr",
     "output_type": "stream",
     "text": [
      "100%|██████████| 890/890 [00:03<00:00, 226.93it/s]\n"
     ]
    },
    {
     "name": "stdout",
     "output_type": "stream",
     "text": [
      "FOLD [5] EPOCH [05] TRAIN LOSS [135.261848] TRAIN SCORE [0.142321] VAL LOSS [135.694708] VAL SCORE [0.142342]\n"
     ]
    },
    {
     "name": "stderr",
     "output_type": "stream",
     "text": [
      "100%|██████████| 890/890 [00:03<00:00, 224.50it/s]\n"
     ]
    },
    {
     "name": "stdout",
     "output_type": "stream",
     "text": [
      "FOLD [5] EPOCH [06] TRAIN LOSS [134.954262] TRAIN SCORE [0.144464] VAL LOSS [135.094635] VAL SCORE [0.147164]\n"
     ]
    },
    {
     "name": "stderr",
     "output_type": "stream",
     "text": [
      "100%|██████████| 890/890 [00:03<00:00, 228.12it/s]\n"
     ]
    },
    {
     "name": "stdout",
     "output_type": "stream",
     "text": [
      "FOLD [5] EPOCH [07] TRAIN LOSS [134.874433] TRAIN SCORE [0.145740] VAL LOSS [136.022490] VAL SCORE [0.135021]\n"
     ]
    },
    {
     "name": "stderr",
     "output_type": "stream",
     "text": [
      "100%|██████████| 890/890 [00:03<00:00, 240.08it/s]\n"
     ]
    },
    {
     "name": "stdout",
     "output_type": "stream",
     "text": [
      "FOLD [5] EPOCH [08] TRAIN LOSS [134.745013] TRAIN SCORE [0.146397] VAL LOSS [134.996411] VAL SCORE [0.147466]\n"
     ]
    },
    {
     "name": "stderr",
     "output_type": "stream",
     "text": [
      "100%|██████████| 890/890 [00:03<00:00, 229.72it/s]\n"
     ]
    },
    {
     "name": "stdout",
     "output_type": "stream",
     "text": [
      "FOLD [5] EPOCH [09] TRAIN LOSS [134.621923] TRAIN SCORE [0.147733] VAL LOSS [134.986535] VAL SCORE [0.145726]\n"
     ]
    },
    {
     "name": "stderr",
     "output_type": "stream",
     "text": [
      "100%|██████████| 890/890 [00:03<00:00, 237.14it/s]\n"
     ]
    },
    {
     "name": "stdout",
     "output_type": "stream",
     "text": [
      "FOLD [5] EPOCH [10] TRAIN LOSS [134.597000] TRAIN SCORE [0.148663] VAL LOSS [135.184306] VAL SCORE [0.149734]\n"
     ]
    },
    {
     "name": "stderr",
     "output_type": "stream",
     "text": [
      "100%|██████████| 890/890 [00:03<00:00, 226.85it/s]\n"
     ]
    },
    {
     "name": "stdout",
     "output_type": "stream",
     "text": [
      "FOLD [5] EPOCH [11] TRAIN LOSS [133.605186] TRAIN SCORE [0.156260] VAL LOSS [134.000122] VAL SCORE [0.155615]\n"
     ]
    },
    {
     "name": "stderr",
     "output_type": "stream",
     "text": [
      "100%|██████████| 890/890 [00:03<00:00, 227.44it/s]\n"
     ]
    },
    {
     "name": "stdout",
     "output_type": "stream",
     "text": [
      "FOLD [5] EPOCH [12] TRAIN LOSS [133.425593] TRAIN SCORE [0.157971] VAL LOSS [134.011844] VAL SCORE [0.156089]\n"
     ]
    },
    {
     "name": "stderr",
     "output_type": "stream",
     "text": [
      "100%|██████████| 890/890 [00:03<00:00, 225.04it/s]\n"
     ]
    },
    {
     "name": "stdout",
     "output_type": "stream",
     "text": [
      "FOLD [5] EPOCH [13] TRAIN LOSS [133.484816] TRAIN SCORE [0.158342] VAL LOSS [133.992345] VAL SCORE [0.155023]\n"
     ]
    },
    {
     "name": "stderr",
     "output_type": "stream",
     "text": [
      "100%|██████████| 890/890 [00:03<00:00, 227.57it/s]\n"
     ]
    },
    {
     "name": "stdout",
     "output_type": "stream",
     "text": [
      "FOLD [5] EPOCH [14] TRAIN LOSS [133.272434] TRAIN SCORE [0.159489] VAL LOSS [133.934649] VAL SCORE [0.157044]\n"
     ]
    },
    {
     "name": "stderr",
     "output_type": "stream",
     "text": [
      "100%|██████████| 890/890 [00:03<00:00, 224.94it/s]\n"
     ]
    },
    {
     "name": "stdout",
     "output_type": "stream",
     "text": [
      "FOLD [5] EPOCH [15] TRAIN LOSS [133.208258] TRAIN SCORE [0.159466] VAL LOSS [133.741711] VAL SCORE [0.156797]\n"
     ]
    },
    {
     "name": "stderr",
     "output_type": "stream",
     "text": [
      "100%|██████████| 890/890 [00:03<00:00, 226.36it/s]\n"
     ]
    },
    {
     "name": "stdout",
     "output_type": "stream",
     "text": [
      "FOLD [5] EPOCH [16] TRAIN LOSS [133.278642] TRAIN SCORE [0.159661] VAL LOSS [133.822960] VAL SCORE [0.156785]\n"
     ]
    },
    {
     "name": "stderr",
     "output_type": "stream",
     "text": [
      "100%|██████████| 890/890 [00:03<00:00, 236.16it/s]\n"
     ]
    },
    {
     "name": "stdout",
     "output_type": "stream",
     "text": [
      "FOLD [5] EPOCH [17] TRAIN LOSS [133.256029] TRAIN SCORE [0.159657] VAL LOSS [133.679817] VAL SCORE [0.157046]\n"
     ]
    },
    {
     "name": "stderr",
     "output_type": "stream",
     "text": [
      "100%|██████████| 890/890 [00:03<00:00, 238.36it/s]\n"
     ]
    },
    {
     "name": "stdout",
     "output_type": "stream",
     "text": [
      "FOLD [5] EPOCH [18] TRAIN LOSS [133.301143] TRAIN SCORE [0.159776] VAL LOSS [133.740755] VAL SCORE [0.156871]\n"
     ]
    },
    {
     "name": "stderr",
     "output_type": "stream",
     "text": [
      "100%|██████████| 890/890 [00:03<00:00, 235.39it/s]\n"
     ]
    },
    {
     "name": "stdout",
     "output_type": "stream",
     "text": [
      "FOLD [5] EPOCH [19] TRAIN LOSS [133.307326] TRAIN SCORE [0.159978] VAL LOSS [133.745292] VAL SCORE [0.157402]\n"
     ]
    },
    {
     "name": "stderr",
     "output_type": "stream",
     "text": [
      "100%|██████████| 890/890 [00:03<00:00, 232.33it/s]\n"
     ]
    },
    {
     "name": "stdout",
     "output_type": "stream",
     "text": [
      "FOLD [5] EPOCH [20] TRAIN LOSS [133.258022] TRAIN SCORE [0.159848] VAL LOSS [133.780795] VAL SCORE [0.157135]\n",
      "FOLD [5] BEST VALIDATION SCORE [0.157402]\n",
      "====================================================================================================\n"
     ]
    }
   ],
   "source": [
    "def train_model(embeddings_source, model_type=\"linear\", n_folds=5):\n",
    "    \"\"\"Train models using Stratified K-Fold cross-validation with label count approximation.\"\"\"\n",
    "    train_dataset = ProteinSequenceDataset(datatype=\"train\", embeddings_source=embeddings_source)\n",
    "    \n",
    "    # Extract labels for stratification\n",
    "    labels = np.stack(train_dataset.df['labels_vect'].values)\n",
    "    stratify_y = np.sum(labels, axis=1)  # Use sum of labels as stratification criterion for multi-label\n",
    "    \n",
    "    kf = StratifiedKFold(n_splits=n_folds, shuffle=True, random_state=42)\n",
    "    \n",
    "    models = []\n",
    "    best_scores = []\n",
    "    \n",
    "    for fold, (train_idx, val_idx) in enumerate(kf.split(np.arange(len(train_dataset)), stratify_y)):\n",
    "        train_set = torch.utils.data.Subset(train_dataset, train_idx)\n",
    "        val_set = torch.utils.data.Subset(train_dataset, val_idx)\n",
    "        \n",
    "        train_dataloader = DataLoader(train_set, batch_size=Config.batch_size, shuffle=True)\n",
    "        val_dataloader = DataLoader(val_set, batch_size=Config.batch_size, shuffle=True)\n",
    "        \n",
    "        if model_type == \"linear\":\n",
    "            model = MultiLayerPerceptron(input_dim=embeds_dim[embeddings_source], num_classes=Config.num_labels).to(Config.device)\n",
    "        elif model_type == \"convolutional\":\n",
    "            model = CNN1D(input_dim=embeds_dim[embeddings_source], num_classes=Config.num_labels).to(Config.device)\n",
    "        \n",
    "        optimizer = torch.optim.Adam(model.parameters(), lr=Config.lr)\n",
    "        scheduler = ReduceLROnPlateau(optimizer, mode=\"min\", factor=0.1, patience=1, threshold=0.0001)\n",
    "        criterion = nn.CrossEntropyLoss()\n",
    "        f1_metric = MultilabelF1Score(num_labels=Config.num_labels).to(Config.device)\n",
    "        \n",
    "        best_val_score = -float('inf')\n",
    "        best_model = None\n",
    "        best_epoch = 0\n",
    "                \n",
    "        for epoch in range(Config.n_epochs):\n",
    "            # TRAINING\n",
    "            model.train()\n",
    "            losses, scores = [], []\n",
    "            for embeds, targets in tqdm(train_dataloader):\n",
    "                embeds, targets = embeds.to(Config.device), targets.to(Config.device)\n",
    "\n",
    "                optimizer.zero_grad()\n",
    "                preds = model(embeds)\n",
    "                loss = criterion(preds, targets)\n",
    "                score = f1_metric(preds, targets)\n",
    "                losses.append(loss.item())\n",
    "                scores.append(score.item())\n",
    "                loss.backward()\n",
    "\n",
    "                optimizer.step()\n",
    "\n",
    "            train_loss = np.mean(losses)\n",
    "            train_score = np.mean(scores)\n",
    "\n",
    "            # VALIDATION\n",
    "            model.eval()\n",
    "            losses, scores = [], []\n",
    "            with torch.no_grad():\n",
    "                for embeds, targets in val_dataloader:\n",
    "                    embeds, targets = embeds.to(Config.device), targets.to(Config.device)\n",
    "                    preds = model(embeds)\n",
    "                    loss = criterion(preds, targets)\n",
    "                    score = f1_metric(preds, targets)\n",
    "                    losses.append(loss.item())\n",
    "                    scores.append(score.item())\n",
    "\n",
    "            val_loss = np.mean(losses)\n",
    "            val_score = np.mean(scores)\n",
    "            \n",
    "            if val_score >= best_val_score:\n",
    "                best_val_score = val_score\n",
    "                best_model = copy.deepcopy(model)\n",
    "                best_epoch = epoch\n",
    "            scheduler.step(val_loss)\n",
    "\n",
    "            print(f\"FOLD [{fold + 1}/{n_folds}] EPOCH [{epoch + 1:02d}] TRAIN LOSS [{train_loss:.6f}] TRAIN SCORE [{train_score:.6f}] VAL LOSS [{val_loss:.6f}] VAL SCORE [{val_score:.6f}]\")\n",
    "        \n",
    "        models.append(best_model)\n",
    "        best_scores.append(best_val_score)\n",
    "        print(f\"FOLD [{fold + 1}] BEST EPOCH [{best_epoch + 1:02d}] BEST VALIDATION SCORE [{best_val_score:.6f}]\")\n",
    "\n",
    "        print(\"=\" * 100)\n",
    "    \n",
    "    print(f\"BEST SCORES: {best_scores}\")\n",
    "    \n",
    "    return models\n",
    "\n",
    "protbert_models = train_model(\"ProtBERT\")"
   ]
  },
  {
   "cell_type": "code",
   "execution_count": 6,
   "id": "4ed63a05",
   "metadata": {},
   "outputs": [
    {
     "name": "stdout",
     "output_type": "stream",
     "text": [
      "GENERATE PREDICTION FOR TEST SET...\n"
     ]
    },
    {
     "name": "stderr",
     "output_type": "stream",
     "text": [
      "141865it [01:06, 2124.00it/s]\n"
     ]
    },
    {
     "name": "stdout",
     "output_type": "stream",
     "text": [
      "PREDICTIONS DONE\n"
     ]
    }
   ],
   "source": [
    "def predict(embeddings_source, models):\n",
    "    \"\"\"Generate predictions using ensemble of models.\"\"\"\n",
    "    test_dataset = ProteinSequenceDataset(datatype=\"test\", embeddings_source=embeddings_source)\n",
    "    test_dataloader = DataLoader(test_dataset, batch_size=1, shuffle=False)\n",
    "    \n",
    "    for model in models:\n",
    "        model.eval()\n",
    "    \n",
    "    labels = pd.read_csv(Config.train_labels_path, sep=\"\\t\")\n",
    "    top_terms = labels.groupby(\"term\")[\"EntryID\"].count().sort_values(ascending=False)\n",
    "    labels_names = top_terms[:Config.num_labels].index.values\n",
    "    print(\"GENERATE PREDICTION FOR TEST SET...\")\n",
    "    \n",
    "    protein_ids = np.empty(shape=(len(test_dataloader) * Config.num_labels,), dtype=object)\n",
    "    go_terms = np.empty(shape=(len(test_dataloader) * Config.num_labels,), dtype=object)\n",
    "    confidences = np.empty(shape=(len(test_dataloader) * Config.num_labels,), dtype=np.float32)\n",
    "    \n",
    "    for i, (embed, protein_id) in tqdm(enumerate(test_dataloader), total=len(test_dataloader)):\n",
    "        embed = embed.to(Config.device)\n",
    "        preds_list = []\n",
    "        for model in models:\n",
    "            with torch.no_grad():\n",
    "                preds = nn.functional.sigmoid(model(embed)).squeeze().detach().cpu().numpy()\n",
    "            preds_list.append(preds)\n",
    "        avg_preds = np.mean(preds_list, axis=0)\n",
    "        confidences[i * Config.num_labels:(i + 1) * Config.num_labels] = avg_preds\n",
    "        protein_ids[i * Config.num_labels:(i + 1) * Config.num_labels] = protein_id[0]\n",
    "        go_terms[i * Config.num_labels:(i + 1) * Config.num_labels] = labels_names\n",
    "    \n",
    "    submission_df = pd.DataFrame({\"Id\": protein_ids, \"GO term\": go_terms, \"Confidence\": confidences})\n",
    "    print(\"PREDICTIONS DONE\")\n",
    "    return submission_df\n",
    "\n",
    "submission_df = predict(\"ProtBERT\", protbert_models)\n",
    "submission_df.to_csv('submission.tsv', sep='\\t', header=False, index=False)"
   ]
  },
  {
   "cell_type": "code",
   "execution_count": null,
   "id": "d7dfcd60",
   "metadata": {},
   "outputs": [
    {
     "name": "stdout",
     "output_type": "stream",
     "text": [
      "Warning: Your Kaggle API key is readable by other users on this system! To fix this, you can run 'chmod 600 /root/.kaggle/kaggle.json'\n",
      " 20%|███████▉                               | 397M/1.91G [00:11<00:46, 35.5MB/s]"
     ]
    }
   ],
   "source": [
    "!kaggle competitions submit -c cafa-6-protein-function-prediction -f submission.tsv -m \"CAFA6 ProtBERT Embeddings Stratified 5-Fold\""
   ]
  }
 ],
 "metadata": {
  "kaggle": {
   "accelerator": "none",
   "dataSources": [
    {
     "databundleVersionId": 14084779,
     "isSourceIdPinned": false,
     "sourceId": 116062,
     "sourceType": "competition"
    },
    {
     "datasetId": 3225525,
     "sourceId": 5607816,
     "sourceType": "datasetVersion"
    },
    {
     "datasetId": 3327296,
     "sourceId": 5792099,
     "sourceType": "datasetVersion"
    },
    {
     "datasetId": 3546496,
     "sourceId": 6180004,
     "sourceType": "datasetVersion"
    }
   ],
   "dockerImageVersionId": 30527,
   "isGpuEnabled": false,
   "isInternetEnabled": false,
   "language": "python",
   "sourceType": "notebook"
  },
  "kernelspec": {
   "display_name": "base",
   "language": "python",
   "name": "python3"
  },
  "language_info": {
   "codemirror_mode": {
    "name": "ipython",
    "version": 3
   },
   "file_extension": ".py",
   "mimetype": "text/x-python",
   "name": "python",
   "nbconvert_exporter": "python",
   "pygments_lexer": "ipython3",
   "version": "3.11.10"
  },
  "papermill": {
   "default_parameters": {},
   "duration": 1757.957512,
   "end_time": "2025-10-16T15:40:08.083906",
   "environment_variables": {},
   "exception": null,
   "input_path": "__notebook__.ipynb",
   "output_path": "__notebook__.ipynb",
   "parameters": {},
   "start_time": "2025-10-16T15:10:50.126394",
   "version": "2.4.0"
  }
 },
 "nbformat": 4,
 "nbformat_minor": 5
}
